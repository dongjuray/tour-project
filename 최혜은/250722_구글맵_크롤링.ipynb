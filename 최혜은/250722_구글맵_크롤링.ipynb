{
  "nbformat": 4,
  "nbformat_minor": 0,
  "metadata": {
    "colab": {
      "provenance": []
    },
    "kernelspec": {
      "name": "python3",
      "display_name": "Python 3"
    },
    "language_info": {
      "name": "python"
    }
  },
  "cells": [
    {
      "cell_type": "code",
      "source": [
        "from google.colab import userdata\n",
        "API_KEY = userdata.get('API_KEY')  # 여기에 발급받은 키 입력"
      ],
      "metadata": {
        "id": "zz7T7EmNnglj"
      },
      "execution_count": null,
      "outputs": []
    },
    {
      "cell_type": "code",
      "source": [
        "import requests\n",
        "\n",
        "\n",
        "place_name = '경복궁'\n",
        "location_bias = 'circle:5000@37.579617,126.977041'  # 경복궁 주변 위치 기준\n",
        "\n",
        "url = f\"https://maps.googleapis.com/maps/api/place/findplacefromtext/json?input={place_name}&inputtype=textquery&locationbias={location_bias}&key={API_KEY}\"\n",
        "\n",
        "resp = requests.get(url)\n",
        "print(resp.json())\n"
      ],
      "metadata": {
        "colab": {
          "base_uri": "https://localhost:8080/"
        },
        "id": "O1CffeosorwX",
        "outputId": "1bbecbea-8ee7-4638-d489-56e2283190cf"
      },
      "execution_count": null,
      "outputs": [
        {
          "output_type": "stream",
          "name": "stdout",
          "text": [
            "{'candidates': [{'place_id': 'ChIJod7tSseifDUR9hXHLFNGMIs'}], 'status': 'OK'}\n"
          ]
        }
      ]
    },
    {
      "cell_type": "code",
      "source": [
        "place_id = 'ChIJod7tSseifDUR9hXHLFNGMIs'  # 위 코드로 얻은 place_id 대체 필요\n",
        "\n",
        "url = f\"https://maps.googleapis.com/maps/api/place/details/json?place_id={place_id}&fields=name,rating,reviews&key={API_KEY}\"\n",
        "response = requests.get(url).json()\n",
        "\n",
        "for r in response.get('result', {}).get('reviews', []):\n",
        "    print(f\"작성자: {r['author_name']}\")\n",
        "    print(f\"평점: {r['rating']}\")\n",
        "    print(f\"내용: {r['text']}\")\n",
        "    print(\"-\" * 30)\n"
      ],
      "metadata": {
        "colab": {
          "base_uri": "https://localhost:8080/"
        },
        "id": "xjP8ejR-or_g",
        "outputId": "8c9b154b-6c8c-4dca-9b68-8f83be7be28d"
      },
      "execution_count": null,
      "outputs": [
        {
          "output_type": "stream",
          "name": "stdout",
          "text": [
            "작성자: Ed Tom\n",
            "평점: 5\n",
            "내용: A must in Seoul ! Other early in the morning to avoid crowd! Dress up in Korean costume and you get in for free! Plan to be there for 2 hours to see all the chambers and the garden!!! Yes, it is cheesy to dress up in costumes but everyone es to to be a princess! Yes, I was tempted but decided to dress up modern to compare with the past and be unique rather than blend in..\n",
            "------------------------------\n",
            "작성자: Mimi Godin\n",
            "평점: 5\n",
            "내용: I imagine that it would be a very hot place to explore in the summer as there is minimal shade, but during our visit in May we were lucky to have lovely weather. We explored the palace grounds for 1-2 hours. There were many people in traditional outfits. The price is very inexpensive for such a lovely experience. Highly recommend.\n",
            "------------------------------\n",
            "작성자: Eren Korkmaz\n",
            "평점: 4\n",
            "내용: It is a key attraction in Seoul for sure, and that is why it is full with tourists in traditional Korean attires for photo ops.\n",
            "\n",
            "The palace itself can be seen in 1 hour or so, but the garden is simply huge. So you might consider to dedicate some buffer time if you want to explore the whole landmark.\n",
            "\n",
            "There are free lockers available which was very practical to leave all the burden and walk around freely.\n",
            "------------------------------\n",
            "작성자: Pedro Vera Obrador\n",
            "평점: 5\n",
            "내용: Very beautiful and big complex, it can take hours to explore everything. 3000 won per adult, you can buy the ticket at the vending machine or also at the desks. Change of guards a couple of times every day.\n",
            "------------------------------\n",
            "작성자: Nickola Wilson-Chung (Wilson)\n",
            "평점: 5\n",
            "내용: Wonderful palace that needs to be seen in person. The beautiful architecture and designs are amazing. Make sure to wear comfortable walking shoes because the palace grounds are very spread out. Highly recommend seeing this historic place if you're able to visit Seoul, Korea.\n",
            "------------------------------\n"
          ]
        }
      ]
    },
    {
      "cell_type": "code",
      "source": [
        "import requests\n",
        "\n",
        "\n",
        "place_name = '순천만습지'\n",
        "location_bias = 'circle:3000@34.885971,127.5090298'  # 경복궁 주변 위치 기준\n",
        "\n",
        "url = f\"https://maps.googleapis.com/maps/api/place/findplacefromtext/json?input={place_name}&inputtype=textquery&locationbias={location_bias}&key={API_KEY}\"\n",
        "\n",
        "resp = requests.get(url)\n",
        "print(resp.json())\n"
      ],
      "metadata": {
        "colab": {
          "base_uri": "https://localhost:8080/"
        },
        "outputId": "41e86eed-bb46-4748-dd63-e44742f662d0",
        "id": "TmR4Q_s7vYRV"
      },
      "execution_count": null,
      "outputs": [
        {
          "output_type": "stream",
          "name": "stdout",
          "text": [
            "{'candidates': [{'place_id': 'ChIJ72yWMFMIbjURIBgCYQ5a96s'}, {'place_id': 'ChIJO6XBA1MIbjURqHRTjK9GZz0'}], 'status': 'OK'}\n"
          ]
        }
      ]
    },
    {
      "cell_type": "code",
      "source": [
        "place_id = 'ChIJ72yWMFMIbjURIBgCYQ5a96s'  # 위 코드로 얻은 place_id 대체 필요\n",
        "\n",
        "url = f\"https://maps.googleapis.com/maps/api/place/details/json?place_id={place_id}&fields=name,rating,reviews&key={API_KEY}\"\n",
        "response = requests.get(url).json()\n",
        "\n",
        "for r in response.get('result', {}).get('reviews', []):\n",
        "    print(f\"작성자: {r['author_name']}\")\n",
        "    print(f\"평점: {r['rating']}\")\n",
        "    print(f\"내용: {r['text']}\")\n",
        "    print(\"-\" * 30)\n"
      ],
      "metadata": {
        "colab": {
          "base_uri": "https://localhost:8080/"
        },
        "outputId": "d881df0d-7e77-4dbf-bcd8-a66b2267159f",
        "id": "n9D062EUvYRX"
      },
      "execution_count": null,
      "outputs": [
        {
          "output_type": "stream",
          "name": "stdout",
          "text": [
            "작성자: Anna Teresa Urbanska\n",
            "평점: 5\n",
            "내용: It’s amazing  how you can preserve nature , seeing crabs and mud skippers priceless .\n",
            "------------------------------\n",
            "작성자: Stephen\n",
            "평점: 5\n",
            "내용: We did a small road trip in South Korea from Busan and we made a stop in Suncheon for this area. It is a gorgeous wetland area and the nature is so beautiful.\n",
            "\n",
            "We did a big walk here and witnessed a wonderful sunset at the end. It was truly magical!\n",
            "\n",
            "It is worth the entrance fee, highly recommended!\n",
            "------------------------------\n",
            "작성자: Jennifer Landwehr\n",
            "평점: 5\n",
            "내용: wow. what a beautiful and peaceful place!!\n",
            "Not crowded. Go for the sunset!\n",
            "You walk mostly on the raised board path until you come on a pretty steep hill. It says the observatory is closed but you can still hike up almost all the way there to enjoy the amazing views!\n",
            "------------------------------\n",
            "작성자: Camille E\n",
            "평점: 5\n",
            "내용: Really lovely walk, can get a bit busy especially on the weekends, but worth a visit for sure. Great sunset is. I think it was 5,000 per person to get in, but I thought it was worth it. Could easily spend half a day or more there. Bikes to rent and boat rides too, but I didn’t do any of them.\n",
            "------------------------------\n",
            "작성자: Cindy Chu\n",
            "평점: 5\n",
            "내용: It's accessible by bus, and is a very beautiful place to visit.\n",
            "------------------------------\n"
          ]
        }
      ]
    },
    {
      "cell_type": "code",
      "source": [
        "# ✅ 리뷰 리스트 생성\n",
        "review_list = []\n",
        "\n",
        "for r in response.get('result', {}).get('reviews', []):\n",
        "    review = {\n",
        "        \"작성자\": r.get(\"author_name\", \"\"),\n",
        "        \"평점\": r.get(\"rating\", \"\"),\n",
        "        \"리뷰내용\": r.get(\"text\", \"\"),\n",
        "        \"작성시기\": r.get(\"relative_time_description\", \"\")\n",
        "    }\n",
        "    review_list.append(review)\n",
        "\n",
        "# ✅ pandas로 저장\n",
        "df = pd.DataFrame(review_list)\n",
        "\n",
        "# ✅ CSV 저장\n",
        "df.to_csv(\"순천만습지_리뷰.csv\", index=False, encoding='utf-8-sig')\n",
        "print(\"✅ '순천만습지_리뷰.csv' 저장 완료\")\n",
        "\n",
        "# ✅ TXT로도 저장 (선택)\n",
        "with open(\"순천만습지_리뷰.txt\", \"w\", encoding=\"utf-8\") as f:\n",
        "    for r in review_list:\n",
        "        f.write(f\"[{r['작성자']}] ({r['작성시기']}, 평점 {r['평점']})\\n\")\n",
        "        f.write(r['리뷰내용'] + \"\\n\\n\")"
      ],
      "metadata": {
        "colab": {
          "base_uri": "https://localhost:8080/"
        },
        "id": "QgaGbYo1vu5o",
        "outputId": "fcf20521-9f9b-4246-8ff4-fa68adaba4d4"
      },
      "execution_count": null,
      "outputs": [
        {
          "output_type": "stream",
          "name": "stdout",
          "text": [
            "✅ '순천만습지_리뷰.csv' 저장 완료\n"
          ]
        }
      ]
    }
  ]
}